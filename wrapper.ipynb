{
 "cells": [
  {
   "cell_type": "code",
   "execution_count": 2,
   "metadata": {},
   "outputs": [],
   "source": [
    "#简单装饰器使用\n",
    "\n",
    "def log(f):\n",
    "    def wrapper(*args, **kws):\n",
    "        print('each function add topic: %s' %f.__name__)#添加函数输出信息\n",
    "        f(*args,**kws)\n",
    "    return wrapper"
   ]
  },
  {
   "cell_type": "code",
   "execution_count": null,
   "metadata": {
    "collapsed": true
   },
   "outputs": [],
   "source": []
  },
  {
   "cell_type": "code",
   "execution_count": 5,
   "metadata": {},
   "outputs": [
    {
     "name": "stdout",
     "output_type": "stream",
     "text": [
      "each function add topic: fun1\n",
      "1 2 {'x': 1, 'z': 3, 'y': 2}\n",
      "each function add topic: fun2\n",
      "4 5 6 {'a': 4, 'b': 4}\n"
     ]
    }
   ],
   "source": [
    "#使用装饰器修改函数输出内容\n",
    "@log\n",
    "def fun1(a,b,**kws):\n",
    "    print(a,b,kws)\n",
    "@log\n",
    "def fun2(c,d,e,**kws):\n",
    "    print(c,d,e,kws)\n",
    "    \n",
    "fun1(1,2,x=1,y=2,z=3)\n",
    "fun2(4,5,6,a=4,b=4)"
   ]
  },
  {
   "cell_type": "code",
   "execution_count": null,
   "metadata": {
    "collapsed": true
   },
   "outputs": [],
   "source": []
  }
 ],
 "metadata": {
  "anaconda-cloud": {},
  "kernelspec": {
   "display_name": "Python [conda root]",
   "language": "python",
   "name": "conda-root-py"
  },
  "language_info": {
   "codemirror_mode": {
    "name": "ipython",
    "version": 3
   },
   "file_extension": ".py",
   "mimetype": "text/x-python",
   "name": "python",
   "nbconvert_exporter": "python",
   "pygments_lexer": "ipython3",
   "version": "3.5.4"
  }
 },
 "nbformat": 4,
 "nbformat_minor": 2
}
