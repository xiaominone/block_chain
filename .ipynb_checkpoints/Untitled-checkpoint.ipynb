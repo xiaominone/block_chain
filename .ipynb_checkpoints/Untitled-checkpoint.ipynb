{
 "cells": [
  {
   "cell_type": "code",
   "execution_count": 7,
   "metadata": {},
   "outputs": [
    {
     "ename": "SyntaxError",
     "evalue": "invalid syntax (<ipython-input-7-09721bd0655b>, line 9)",
     "output_type": "error",
     "traceback": [
      "\u001b[0;36m  File \u001b[0;32m\"<ipython-input-7-09721bd0655b>\"\u001b[0;36m, line \u001b[0;32m9\u001b[0m\n\u001b[0;31m    plusone = (int)max-(int)median\u001b[0m\n\u001b[0m                     ^\u001b[0m\n\u001b[0;31mSyntaxError\u001b[0m\u001b[0;31m:\u001b[0m invalid syntax\n"
     ]
    }
   ],
   "source": [
    "import math\n",
    "import sys\n",
    "def soluation(x,y,z):\n",
    "    a = [x,y,z]\n",
    "    a.sort()\n",
    "    max = a[2]\n",
    "    median = a[1]\n",
    "    min = a[0]\n",
    "    plusone = max-median\n",
    "    lost = (a[1]-a[0])%2\n",
    "    if lost == 1:\n",
    "        plustwo = (median-min)//2+1\n",
    "    else:\n",
    "        plustwo = (median-min)//2\n",
    "    sum = plustwo+ plusone\n",
    "    return sum\n",
    "if __name__== '__main__':\n",
    "    if len(sys.argv)!=4:\n",
    "        exit(1)\n",
    "    x = sys.argv[0]\n",
    "    y = sys.argv[1]\n",
    "    z = sys.argv[2]\n",
    "    soluation(x,y,z)\n"
   ]
  },
  {
   "cell_type": "code",
   "execution_count": null,
   "metadata": {
    "collapsed": true
   },
   "outputs": [],
   "source": []
  }
 ],
 "metadata": {
  "anaconda-cloud": {},
  "kernelspec": {
   "display_name": "Python [default]",
   "language": "python",
   "name": "python3"
  },
  "language_info": {
   "codemirror_mode": {
    "name": "ipython",
    "version": 3
   },
   "file_extension": ".py",
   "mimetype": "text/x-python",
   "name": "python",
   "nbconvert_exporter": "python",
   "pygments_lexer": "ipython3",
   "version": "3.5.4"
  }
 },
 "nbformat": 4,
 "nbformat_minor": 2
}
