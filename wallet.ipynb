{
 "cells": [
  {
   "cell_type": "markdown",
   "metadata": {},
   "source": [
    "# ＃生成交易帐号：\n",
    "\n",
    "<ol>\n",
    "<li>生成256位（64字节）私钥</li>\n",
    "<li>非对称算法生成公钥</li>\n",
    "<li>计算公钥的SHA-256</li>\n",
    "<li>计算ripemd-160</li>\n",
    "<li>在头上加上地址版本</li>\n",
    "<li>计算SHA-256</li>\n",
    "<li>计算SHA-256</li>\n",
    "<li>取第7步的前4个字节，也就是8个16进制个位数，也就是字符串前8位</li>\n",
    "<li>把第8步的4个字节内容添加到第5步结果后面作为校验</li>\n",
    "<li>对第9步的结果做base58编码，得到最终地址</li>\n",
    "</ol>"
   ]
  },
  {
   "cell_type": "code",
   "execution_count": 2,
   "metadata": {
    "collapsed": true
   },
   "outputs": [],
   "source": [
    "import base58#2进制buff变成字符串\n",
    "import binascii as ba\n",
    "import ecdsa　#椭圆曲线的非对称密钥生成\n",
    "import hashlib\n",
    "import random"
   ]
  },
  {
   "cell_type": "code",
   "execution_count": null,
   "metadata": {
    "collapsed": true
   },
   "outputs": [],
   "source": []
  },
  {
   "cell_type": "code",
   "execution_count": 9,
   "metadata": {},
   "outputs": [],
   "source": [
    "#生成256位（64字节）私钥\n",
    "def create_priv_key():#256bit = 64*4bit(0-F)\n",
    "    digits = ['%x' % random.randrange(16) for i in range(64)]\n",
    "    return ''.join(digits)"
   ]
  },
  {
   "cell_type": "code",
   "execution_count": 10,
   "metadata": {
    "collapsed": true
   },
   "outputs": [],
   "source": [
    "priv_key = create_priv_key()"
   ]
  },
  {
   "cell_type": "code",
   "execution_count": 11,
   "metadata": {},
   "outputs": [
    {
     "data": {
      "text/plain": [
       "'7ed06dfcb0705ac89480005a57a93de447cfbac8752ec105e3b8cadb7bc384c0'"
      ]
     },
     "execution_count": 11,
     "metadata": {},
     "output_type": "execute_result"
    }
   ],
   "source": [
    "priv_key"
   ]
  },
  {
   "cell_type": "code",
   "execution_count": 17,
   "metadata": {
    "collapsed": true
   },
   "outputs": [],
   "source": [
    "#非对称算法生成公钥\n",
    "def build_pub_key(priv_key):\n",
    "    buff = bytes.fromhex(priv_key)#转为二进制buff\n",
    "    print(type(buff))\n",
    "    print(buff)\n",
    "    sk= ecdsa.SigningKey.from_string(buff,curve=ecdsa.SECP256k1)\n",
    "    pub_key = b'\\x04' + sk.verifying_key.to_string()\n",
    "    print(pub_key)\n",
    "    return ba.b2a_hex(pub_key).decode()#"
   ]
  },
  {
   "cell_type": "code",
   "execution_count": 18,
   "metadata": {},
   "outputs": [
    {
     "name": "stdout",
     "output_type": "stream",
     "text": [
      "<class 'bytes'>\n",
      "b'~\\xd0m\\xfc\\xb0pZ\\xc8\\x94\\x80\\x00ZW\\xa9=\\xe4G\\xcf\\xba\\xc8u.\\xc1\\x05\\xe3\\xb8\\xca\\xdb{\\xc3\\x84\\xc0'\n",
      "b'\\x049(\\x1c\\x99\\x9e\\xb9\\x14{\\x15Lc\\xc9\\xcc\\x08\\xbf\\x06U\\x0e\\xf5\\xba\\xa6F5\\xee[fQ\\x1e\\xbe\\x11\\xf7\\x80\\x949t\\xa9\\xf3\\x98\\xceQhtv|%ce\\xf0;\\xcc\\x13F\\x9f\\x0b\\xcbUI>\\xf12#\\x93\\xa8<'\n"
     ]
    }
   ],
   "source": [
    "pub_key = build_pub_key(priv_key)"
   ]
  },
  {
   "cell_type": "code",
   "execution_count": 16,
   "metadata": {},
   "outputs": [
    {
     "data": {
      "text/plain": [
       "'0439281c999eb9147b154c63c9cc08bf06550ef5baa64635ee5b66511ebe11f780943974a9f398ce516874767c256365f03bcc13469f0bcb55493ef1322393a83c'"
      ]
     },
     "execution_count": 16,
     "metadata": {},
     "output_type": "execute_result"
    }
   ],
   "source": [
    "pub_key"
   ]
  },
  {
   "cell_type": "code",
   "execution_count": 19,
   "metadata": {
    "collapsed": true
   },
   "outputs": [],
   "source": [
    "#计算公钥的SHA-256\n",
    "def sha256(key):\n",
    "    sha = hashlib.sha256(bytes.fromhex(key))\n",
    "    return ba.hexlify(sha.digest()).decode()"
   ]
  },
  {
   "cell_type": "code",
   "execution_count": 24,
   "metadata": {
    "collapsed": true
   },
   "outputs": [],
   "source": [
    "def ripemd160(key):\n",
    "    rm = hashlib.new('ripemd160')\n",
    "    rm.update(bytes.fromhex(key))\n",
    "    return ba.hexlify(rm.digest()).decode()"
   ]
  },
  {
   "cell_type": "code",
   "execution_count": 25,
   "metadata": {},
   "outputs": [
    {
     "name": "stdout",
     "output_type": "stream",
     "text": [
      "82bac5e3c46d8d0d71926aad3d4df2504dce0986c790d9284b220db53e6c03d1\n"
     ]
    }
   ],
   "source": [
    "r3 = sha256(pub_key)\n",
    "print(r3)"
   ]
  },
  {
   "cell_type": "code",
   "execution_count": 26,
   "metadata": {},
   "outputs": [
    {
     "data": {
      "text/plain": [
       "'88d0dad982cadfe60de4e2edd4817bca6e02e487'"
      ]
     },
     "execution_count": 26,
     "metadata": {},
     "output_type": "execute_result"
    }
   ],
   "source": [
    "r4 = ripemd160(r3)\n",
    "r4"
   ]
  },
  {
   "cell_type": "code",
   "execution_count": 27,
   "metadata": {
    "collapsed": true
   },
   "outputs": [],
   "source": [
    "r5 = '00'+r4;"
   ]
  },
  {
   "cell_type": "code",
   "execution_count": 28,
   "metadata": {},
   "outputs": [
    {
     "data": {
      "text/plain": [
       "'a341043ed981cf4d32737345f3aba3cc78d5393a17596e3faa53d2c044fb4d65'"
      ]
     },
     "execution_count": 28,
     "metadata": {},
     "output_type": "execute_result"
    }
   ],
   "source": [
    "r6 = sha256(r5)\n",
    "r7 = sha256(r6)\n",
    "r7"
   ]
  },
  {
   "cell_type": "code",
   "execution_count": 29,
   "metadata": {},
   "outputs": [
    {
     "data": {
      "text/plain": [
       "'a341043e'"
      ]
     },
     "execution_count": 29,
     "metadata": {},
     "output_type": "execute_result"
    }
   ],
   "source": [
    "r8 = r7[:8]\n",
    "r8"
   ]
  },
  {
   "cell_type": "code",
   "execution_count": 30,
   "metadata": {},
   "outputs": [
    {
     "data": {
      "text/plain": [
       "'0088d0dad982cadfe60de4e2edd4817bca6e02e487a341043e'"
      ]
     },
     "execution_count": 30,
     "metadata": {},
     "output_type": "execute_result"
    }
   ],
   "source": [
    "r9 = r5+r8\n",
    "r9"
   ]
  },
  {
   "cell_type": "code",
   "execution_count": 31,
   "metadata": {
    "collapsed": true
   },
   "outputs": [],
   "source": [
    "addr = base58.b58encode(bytes.fromhex(r9))"
   ]
  },
  {
   "cell_type": "code",
   "execution_count": 32,
   "metadata": {},
   "outputs": [
    {
     "data": {
      "text/plain": [
       "'1DUR6afpHosVRcuQgxGk476PQva2M35vyT'"
      ]
     },
     "execution_count": 32,
     "metadata": {},
     "output_type": "execute_result"
    }
   ],
   "source": [
    "addr"
   ]
  },
  {
   "cell_type": "code",
   "execution_count": null,
   "metadata": {
    "collapsed": true
   },
   "outputs": [],
   "source": []
  }
 ],
 "metadata": {
  "anaconda-cloud": {},
  "celltoolbar": "Slideshow",
  "kernelspec": {
   "display_name": "Python [conda root]",
   "language": "python",
   "name": "conda-root-py"
  },
  "language_info": {
   "codemirror_mode": {
    "name": "ipython",
    "version": 3
   },
   "file_extension": ".py",
   "mimetype": "text/x-python",
   "name": "python",
   "nbconvert_exporter": "python",
   "pygments_lexer": "ipython3",
   "version": "3.5.4"
  }
 },
 "nbformat": 4,
 "nbformat_minor": 2
}
